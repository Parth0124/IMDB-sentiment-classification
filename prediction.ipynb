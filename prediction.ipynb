{
 "cells": [
  {
   "cell_type": "code",
   "execution_count": 1,
   "metadata": {},
   "outputs": [],
   "source": [
    "import numpy as np\n",
    "import tensorflow as tf\n",
    "from tensorflow.keras.datasets import imdb\n",
    "from tensorflow.keras.preprocessing import sequence\n",
    "from tensorflow.keras.models import load_model"
   ]
  },
  {
   "cell_type": "code",
   "execution_count": 2,
   "metadata": {},
   "outputs": [],
   "source": [
    "word_index = imdb.get_word_index()\n",
    "reverse_word_index = {value: key for key, value in word_index.items()}"
   ]
  },
  {
   "cell_type": "code",
   "execution_count": 3,
   "metadata": {},
   "outputs": [
    {
     "name": "stderr",
     "output_type": "stream",
     "text": [
      "WARNING:absl:Compiled the loaded model, but the compiled metrics have yet to be built. `model.compile_metrics` will be empty until you train or evaluate the model.\n"
     ]
    },
    {
     "data": {
      "text/html": [
       "<pre style=\"white-space:pre;overflow-x:auto;line-height:normal;font-family:Menlo,'DejaVu Sans Mono',consolas,'Courier New',monospace\"><span style=\"font-weight: bold\">Model: \"sequential\"</span>\n",
       "</pre>\n"
      ],
      "text/plain": [
       "\u001b[1mModel: \"sequential\"\u001b[0m\n"
      ]
     },
     "metadata": {},
     "output_type": "display_data"
    },
    {
     "data": {
      "text/html": [
       "<pre style=\"white-space:pre;overflow-x:auto;line-height:normal;font-family:Menlo,'DejaVu Sans Mono',consolas,'Courier New',monospace\">┏━━━━━━━━━━━━━━━━━━━━━━━━━━━━━━━━━┳━━━━━━━━━━━━━━━━━━━━━━━━┳━━━━━━━━━━━━━━━┓\n",
       "┃<span style=\"font-weight: bold\"> Layer (type)                    </span>┃<span style=\"font-weight: bold\"> Output Shape           </span>┃<span style=\"font-weight: bold\">       Param # </span>┃\n",
       "┡━━━━━━━━━━━━━━━━━━━━━━━━━━━━━━━━━╇━━━━━━━━━━━━━━━━━━━━━━━━╇━━━━━━━━━━━━━━━┩\n",
       "│ embedding (<span style=\"color: #0087ff; text-decoration-color: #0087ff\">Embedding</span>)           │ (<span style=\"color: #00af00; text-decoration-color: #00af00\">32</span>, <span style=\"color: #00af00; text-decoration-color: #00af00\">500</span>, <span style=\"color: #00af00; text-decoration-color: #00af00\">128</span>)         │     <span style=\"color: #00af00; text-decoration-color: #00af00\">1,280,000</span> │\n",
       "├─────────────────────────────────┼────────────────────────┼───────────────┤\n",
       "│ simple_rnn (<span style=\"color: #0087ff; text-decoration-color: #0087ff\">SimpleRNN</span>)          │ (<span style=\"color: #00af00; text-decoration-color: #00af00\">32</span>, <span style=\"color: #00af00; text-decoration-color: #00af00\">128</span>)              │        <span style=\"color: #00af00; text-decoration-color: #00af00\">32,896</span> │\n",
       "├─────────────────────────────────┼────────────────────────┼───────────────┤\n",
       "│ dense (<span style=\"color: #0087ff; text-decoration-color: #0087ff\">Dense</span>)                   │ (<span style=\"color: #00af00; text-decoration-color: #00af00\">32</span>, <span style=\"color: #00af00; text-decoration-color: #00af00\">1</span>)                │           <span style=\"color: #00af00; text-decoration-color: #00af00\">129</span> │\n",
       "└─────────────────────────────────┴────────────────────────┴───────────────┘\n",
       "</pre>\n"
      ],
      "text/plain": [
       "┏━━━━━━━━━━━━━━━━━━━━━━━━━━━━━━━━━┳━━━━━━━━━━━━━━━━━━━━━━━━┳━━━━━━━━━━━━━━━┓\n",
       "┃\u001b[1m \u001b[0m\u001b[1mLayer (type)                   \u001b[0m\u001b[1m \u001b[0m┃\u001b[1m \u001b[0m\u001b[1mOutput Shape          \u001b[0m\u001b[1m \u001b[0m┃\u001b[1m \u001b[0m\u001b[1m      Param #\u001b[0m\u001b[1m \u001b[0m┃\n",
       "┡━━━━━━━━━━━━━━━━━━━━━━━━━━━━━━━━━╇━━━━━━━━━━━━━━━━━━━━━━━━╇━━━━━━━━━━━━━━━┩\n",
       "│ embedding (\u001b[38;5;33mEmbedding\u001b[0m)           │ (\u001b[38;5;34m32\u001b[0m, \u001b[38;5;34m500\u001b[0m, \u001b[38;5;34m128\u001b[0m)         │     \u001b[38;5;34m1,280,000\u001b[0m │\n",
       "├─────────────────────────────────┼────────────────────────┼───────────────┤\n",
       "│ simple_rnn (\u001b[38;5;33mSimpleRNN\u001b[0m)          │ (\u001b[38;5;34m32\u001b[0m, \u001b[38;5;34m128\u001b[0m)              │        \u001b[38;5;34m32,896\u001b[0m │\n",
       "├─────────────────────────────────┼────────────────────────┼───────────────┤\n",
       "│ dense (\u001b[38;5;33mDense\u001b[0m)                   │ (\u001b[38;5;34m32\u001b[0m, \u001b[38;5;34m1\u001b[0m)                │           \u001b[38;5;34m129\u001b[0m │\n",
       "└─────────────────────────────────┴────────────────────────┴───────────────┘\n"
      ]
     },
     "metadata": {},
     "output_type": "display_data"
    },
    {
     "data": {
      "text/html": [
       "<pre style=\"white-space:pre;overflow-x:auto;line-height:normal;font-family:Menlo,'DejaVu Sans Mono',consolas,'Courier New',monospace\"><span style=\"font-weight: bold\"> Total params: </span><span style=\"color: #00af00; text-decoration-color: #00af00\">1,313,027</span> (5.01 MB)\n",
       "</pre>\n"
      ],
      "text/plain": [
       "\u001b[1m Total params: \u001b[0m\u001b[38;5;34m1,313,027\u001b[0m (5.01 MB)\n"
      ]
     },
     "metadata": {},
     "output_type": "display_data"
    },
    {
     "data": {
      "text/html": [
       "<pre style=\"white-space:pre;overflow-x:auto;line-height:normal;font-family:Menlo,'DejaVu Sans Mono',consolas,'Courier New',monospace\"><span style=\"font-weight: bold\"> Trainable params: </span><span style=\"color: #00af00; text-decoration-color: #00af00\">1,313,025</span> (5.01 MB)\n",
       "</pre>\n"
      ],
      "text/plain": [
       "\u001b[1m Trainable params: \u001b[0m\u001b[38;5;34m1,313,025\u001b[0m (5.01 MB)\n"
      ]
     },
     "metadata": {},
     "output_type": "display_data"
    },
    {
     "data": {
      "text/html": [
       "<pre style=\"white-space:pre;overflow-x:auto;line-height:normal;font-family:Menlo,'DejaVu Sans Mono',consolas,'Courier New',monospace\"><span style=\"font-weight: bold\"> Non-trainable params: </span><span style=\"color: #00af00; text-decoration-color: #00af00\">0</span> (0.00 B)\n",
       "</pre>\n"
      ],
      "text/plain": [
       "\u001b[1m Non-trainable params: \u001b[0m\u001b[38;5;34m0\u001b[0m (0.00 B)\n"
      ]
     },
     "metadata": {},
     "output_type": "display_data"
    },
    {
     "data": {
      "text/html": [
       "<pre style=\"white-space:pre;overflow-x:auto;line-height:normal;font-family:Menlo,'DejaVu Sans Mono',consolas,'Courier New',monospace\"><span style=\"font-weight: bold\"> Optimizer params: </span><span style=\"color: #00af00; text-decoration-color: #00af00\">2</span> (12.00 B)\n",
       "</pre>\n"
      ],
      "text/plain": [
       "\u001b[1m Optimizer params: \u001b[0m\u001b[38;5;34m2\u001b[0m (12.00 B)\n"
      ]
     },
     "metadata": {},
     "output_type": "display_data"
    }
   ],
   "source": [
    "model = load_model('simplernn_imdb.h5')\n",
    "model.summary()"
   ]
  },
  {
   "cell_type": "code",
   "execution_count": 4,
   "metadata": {},
   "outputs": [
    {
     "data": {
      "text/plain": [
       "[array([[ 0.47848114,  0.5479006 , -0.36650825, ..., -1.1004732 ,\n",
       "         -1.3128839 ,  0.3657965 ],\n",
       "        [ 0.01421565,  0.04200055, -0.05109568, ..., -0.02529499,\n",
       "         -0.10149647,  0.01575093],\n",
       "        [ 0.06254831, -0.07371306,  0.10141157, ..., -0.14343998,\n",
       "         -0.08157003, -0.12338511],\n",
       "        ...,\n",
       "        [ 0.08379956, -0.01949467,  0.0827276 , ..., -0.00489228,\n",
       "          0.02219544, -0.03979542],\n",
       "        [ 0.04185516, -0.00513056, -0.01964195, ...,  0.02976783,\n",
       "          0.01464897,  0.03125626],\n",
       "        [-0.00141779,  0.11271808, -0.0813432 , ...,  0.04935206,\n",
       "          0.00213379,  0.04809929]], dtype=float32),\n",
       " array([[ 0.02106205,  0.06089775,  0.19287235, ..., -0.04107935,\n",
       "          0.12013179,  0.14933386],\n",
       "        [-0.07745481, -0.02218582, -0.1454817 , ..., -0.00492462,\n",
       "         -0.00395151,  0.08432112],\n",
       "        [-0.03897784, -0.13854024,  0.14722915, ...,  0.20653972,\n",
       "         -0.00287087,  0.08975413],\n",
       "        ...,\n",
       "        [-0.13390012, -0.10961856, -0.13065065, ...,  0.04259073,\n",
       "          0.12095236, -0.11863502],\n",
       "        [ 0.11862544, -0.05752324,  0.05412938, ..., -0.00576603,\n",
       "          0.14524107,  0.04691093],\n",
       "        [ 0.0069462 , -0.13739386, -0.17811732, ..., -0.17143963,\n",
       "          0.04244123, -0.09384317]], dtype=float32),\n",
       " array([[-0.07806747,  0.15346602, -0.02624494, ..., -0.02756401,\n",
       "          0.13357535, -0.00328413],\n",
       "        [-0.01939039, -0.11748029,  0.03116935, ..., -0.1056287 ,\n",
       "          0.03572441,  0.08697322],\n",
       "        [ 0.03089008,  0.05093246, -0.10866293, ..., -0.06139347,\n",
       "         -0.070392  , -0.02995513],\n",
       "        ...,\n",
       "        [-0.09599298,  0.05466699, -0.04275198, ...,  0.07565372,\n",
       "         -0.2373252 , -0.11102465],\n",
       "        [-0.00194262, -0.1634989 ,  0.03855124, ..., -0.05950959,\n",
       "          0.15922451, -0.05361588],\n",
       "        [-0.03498089, -0.14776894, -0.11818208, ..., -0.01866548,\n",
       "          0.06556807, -0.06783213]], dtype=float32),\n",
       " array([-0.03989464, -0.037282  , -0.01882271,  0.00703179, -0.02238171,\n",
       "        -0.05521758, -0.04342913,  0.0048317 , -0.03217374, -0.00280308,\n",
       "        -0.05340956, -0.02549336,  0.03187649, -0.0060229 , -0.05093697,\n",
       "        -0.03510297, -0.01674995, -0.02856956, -0.00777038,  0.02573879,\n",
       "        -0.05058383, -0.06313428, -0.04344825, -0.02489979, -0.01770507,\n",
       "         0.01180692, -0.03691592, -0.04212235,  0.00886382, -0.04262751,\n",
       "         0.02690507,  0.01347096,  0.01627004, -0.02292979, -0.03645573,\n",
       "        -0.05209637, -0.06093651,  0.00868129, -0.04975857, -0.04512742,\n",
       "        -0.00752093,  0.00467051, -0.003307  , -0.04316619,  0.0073206 ,\n",
       "        -0.04338047,  0.01089371,  0.01826148,  0.04916938, -0.01129244,\n",
       "        -0.05148479,  0.00114913,  0.00381121,  0.01801249,  0.04381387,\n",
       "        -0.03471218, -0.03970503, -0.03837324, -0.04858173, -0.01922069,\n",
       "         0.0406557 , -0.04259679, -0.0218413 ,  0.03209949,  0.01638864,\n",
       "        -0.04358968, -0.00436368,  0.01881002,  0.03621287, -0.03238672,\n",
       "        -0.06157975, -0.01341029,  0.02647544,  0.01396598, -0.02001998,\n",
       "        -0.03492816,  0.0090216 , -0.04388006, -0.04841983, -0.02258253,\n",
       "        -0.03956716, -0.00025672,  0.02557384, -0.04467763, -0.00631342,\n",
       "         0.01587073, -0.01878641,  0.00098884,  0.00471999,  0.00291403,\n",
       "         0.00938727,  0.00357977, -0.01135343,  0.02539844,  0.00993517,\n",
       "        -0.03023192, -0.0188786 ,  0.01283091, -0.01396597, -0.09097286,\n",
       "        -0.03405755, -0.00771753,  0.00586028, -0.0267352 ,  0.00442574,\n",
       "        -0.01085419,  0.02825039,  0.01062322,  0.00062347,  0.01197935,\n",
       "         0.00354452, -0.06092855,  0.03089401,  0.04185214, -0.03588992,\n",
       "        -0.02595241,  0.02313683, -0.00645351, -0.01261974, -0.01450206,\n",
       "        -0.01196835, -0.03948481, -0.02914979,  0.00847957,  0.00407784,\n",
       "         0.01944926, -0.00830717,  0.02173754], dtype=float32),\n",
       " array([[ 0.10414108],\n",
       "        [ 0.18584032],\n",
       "        [ 0.02313993],\n",
       "        [ 0.2579762 ],\n",
       "        [ 0.20488787],\n",
       "        [ 0.02176156],\n",
       "        [ 0.17378922],\n",
       "        [-0.25476018],\n",
       "        [ 0.15306416],\n",
       "        [ 0.6181192 ],\n",
       "        [ 0.17236587],\n",
       "        [-0.01620045],\n",
       "        [-0.226541  ],\n",
       "        [-0.18619727],\n",
       "        [-0.02396434],\n",
       "        [ 0.13684885],\n",
       "        [ 0.01849992],\n",
       "        [-0.09984128],\n",
       "        [-0.14799426],\n",
       "        [-0.12995027],\n",
       "        [-0.43422508],\n",
       "        [ 0.01972512],\n",
       "        [ 0.06579529],\n",
       "        [ 0.0403548 ],\n",
       "        [ 0.11523654],\n",
       "        [ 0.2111546 ],\n",
       "        [ 0.10828987],\n",
       "        [-0.06224864],\n",
       "        [-0.10167435],\n",
       "        [ 0.08171983],\n",
       "        [-0.1490428 ],\n",
       "        [-0.171941  ],\n",
       "        [ 0.2166719 ],\n",
       "        [-0.15805265],\n",
       "        [ 0.00974724],\n",
       "        [-0.39289477],\n",
       "        [-0.079845  ],\n",
       "        [ 0.19736098],\n",
       "        [ 0.08681425],\n",
       "        [-0.03652068],\n",
       "        [ 0.12782986],\n",
       "        [-0.19982646],\n",
       "        [ 0.37360832],\n",
       "        [-0.09470668],\n",
       "        [-0.22348997],\n",
       "        [-0.53752565],\n",
       "        [ 0.0295132 ],\n",
       "        [-0.2256744 ],\n",
       "        [-0.43245763],\n",
       "        [-0.20529252],\n",
       "        [ 0.05503034],\n",
       "        [-0.22230546],\n",
       "        [ 0.21359326],\n",
       "        [ 0.05585776],\n",
       "        [-0.07612514],\n",
       "        [ 0.12193567],\n",
       "        [ 0.14262065],\n",
       "        [ 0.07092676],\n",
       "        [ 0.01048229],\n",
       "        [-0.03225021],\n",
       "        [ 0.12515908],\n",
       "        [-0.04955281],\n",
       "        [ 0.18650064],\n",
       "        [ 0.14844956],\n",
       "        [-0.0950409 ],\n",
       "        [-0.96347505],\n",
       "        [-0.20583528],\n",
       "        [ 0.04834178],\n",
       "        [ 0.3269874 ],\n",
       "        [ 0.03454882],\n",
       "        [-0.04305881],\n",
       "        [-0.34066433],\n",
       "        [-0.17243683],\n",
       "        [ 0.07902482],\n",
       "        [ 0.1283106 ],\n",
       "        [ 0.503046  ],\n",
       "        [-0.126292  ],\n",
       "        [ 0.08933621],\n",
       "        [-0.09070095],\n",
       "        [ 0.1175167 ],\n",
       "        [ 0.15089087],\n",
       "        [ 0.05727338],\n",
       "        [-0.05561348],\n",
       "        [ 0.09781366],\n",
       "        [-0.56126255],\n",
       "        [-0.14430976],\n",
       "        [ 0.06262542],\n",
       "        [ 0.00778289],\n",
       "        [-0.11292169],\n",
       "        [ 0.12212774],\n",
       "        [ 0.23166211],\n",
       "        [-0.16578881],\n",
       "        [ 0.11499408],\n",
       "        [-0.47083735],\n",
       "        [ 0.16666363],\n",
       "        [ 0.13779967],\n",
       "        [ 0.17285147],\n",
       "        [-0.08478977],\n",
       "        [-0.23607863],\n",
       "        [-0.12945256],\n",
       "        [ 0.05467606],\n",
       "        [ 0.24818859],\n",
       "        [-0.17989048],\n",
       "        [ 0.17082657],\n",
       "        [-0.09511153],\n",
       "        [ 0.17006524],\n",
       "        [-0.04787634],\n",
       "        [-0.23601414],\n",
       "        [-0.21919335],\n",
       "        [-0.07772622],\n",
       "        [-0.20323347],\n",
       "        [-0.24736165],\n",
       "        [-0.18611653],\n",
       "        [-0.14081082],\n",
       "        [ 0.21838835],\n",
       "        [-0.13229038],\n",
       "        [ 0.1441515 ],\n",
       "        [-0.18293804],\n",
       "        [-0.14829434],\n",
       "        [-0.04544535],\n",
       "        [ 0.12326967],\n",
       "        [ 0.0703861 ],\n",
       "        [-0.17921223],\n",
       "        [ 0.19268459],\n",
       "        [-0.05309631],\n",
       "        [-0.12213098],\n",
       "        [-0.10618354],\n",
       "        [ 0.01566371]], dtype=float32),\n",
       " array([-0.12093569], dtype=float32)]"
      ]
     },
     "execution_count": 4,
     "metadata": {},
     "output_type": "execute_result"
    }
   ],
   "source": [
    "model.get_weights()"
   ]
  },
  {
   "cell_type": "code",
   "execution_count": 5,
   "metadata": {},
   "outputs": [],
   "source": [
    "### Helper Functions\n",
    "# Function to decode reviews\n",
    "def decode_review(encoded_review):\n",
    "    return ' '.join([reverse_word_index.get(i - 3, '?') for i in encoded_review])\n",
    "\n",
    "# Function to preprocess user input\n",
    "def preprocess_text(text):\n",
    "    words = text.lower().split()\n",
    "    encoded_review = [word_index.get(word, 2) + 3 for word in words]\n",
    "    padded_review = sequence.pad_sequences([encoded_review], maxlen=500)\n",
    "    return padded_review"
   ]
  },
  {
   "cell_type": "code",
   "execution_count": 6,
   "metadata": {},
   "outputs": [],
   "source": [
    "### Prediction  function\n",
    "\n",
    "def predict_sentiment(review):\n",
    "    preprocessed_input=preprocess_text(review)\n",
    "\n",
    "    prediction=model.predict(preprocessed_input)\n",
    "\n",
    "    sentiment = 'Positive' if prediction[0][0] > 0.5 else 'Negative'\n",
    "    \n",
    "    return sentiment, prediction[0][0]\n"
   ]
  },
  {
   "cell_type": "code",
   "execution_count": 21,
   "metadata": {},
   "outputs": [
    {
     "name": "stdout",
     "output_type": "stream",
     "text": [
      "\u001b[1m1/1\u001b[0m \u001b[32m━━━━━━━━━━━━━━━━━━━━\u001b[0m\u001b[37m\u001b[0m \u001b[1m0s\u001b[0m 30ms/step\n",
      "Review: Great character role play. The cast was perfect for their roles. Excited for part 2.\n",
      "Sentiment: Positive\n",
      "Prediction Score: 0.9278593063354492\n"
     ]
    }
   ],
   "source": [
    "# User Input and Prediction\n",
    "# Example review for prediction\n",
    "example_review = \"Great character role play. The cast was perfect for their roles. Excited for part 2.\"\n",
    "\n",
    "sentiment,score=predict_sentiment(example_review)\n",
    "\n",
    "print(f'Review: {example_review}')\n",
    "print(f'Sentiment: {sentiment}')\n",
    "print(f'Prediction Score: {score}')"
   ]
  },
  {
   "cell_type": "code",
   "execution_count": null,
   "metadata": {},
   "outputs": [],
   "source": []
  }
 ],
 "metadata": {
  "kernelspec": {
   "display_name": "imdb",
   "language": "python",
   "name": "python3"
  },
  "language_info": {
   "codemirror_mode": {
    "name": "ipython",
    "version": 3
   },
   "file_extension": ".py",
   "mimetype": "text/x-python",
   "name": "python",
   "nbconvert_exporter": "python",
   "pygments_lexer": "ipython3",
   "version": "3.12.0"
  }
 },
 "nbformat": 4,
 "nbformat_minor": 2
}
